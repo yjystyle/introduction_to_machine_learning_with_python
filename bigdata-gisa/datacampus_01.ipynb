{
 "cells": [
  {
   "cell_type": "code",
   "execution_count": 19,
   "metadata": {},
   "outputs": [],
   "source": [
    "import numpy as np\n",
    "import pandas as pd"
   ]
  },
  {
   "cell_type": "code",
   "execution_count": 20,
   "metadata": {
    "pycharm": {
     "is_executing": true
    }
   },
   "outputs": [
    {
     "name": "stdout",
     "output_type": "stream",
     "text": [
      "[0 1 2 3 4]\n",
      "[1 2 3 4 5 6 7 8 9]\n",
      "[3.5 5.5 7.5 9.5]\n",
      "[ 1  9 25 49 81]\n",
      "[  1  27 125 343 729]\n"
     ]
    }
   ],
   "source": [
    "v1 = np.arange(5)\n",
    "print(v1)\n",
    "v2 = np.arange(1,10,1, dtype=int)\n",
    "v3 = np.arange(3.5,10.5,2, dtype=float)\n",
    "print(v2)\n",
    "print(v3)\n",
    "v4=np.arange(1,10,2)**2\n",
    "v5=np.arange(1,10,2)**3\n",
    "print(v4)\n",
    "print(v5)"
   ]
  },
  {
   "cell_type": "code",
   "execution_count": 21,
   "metadata": {},
   "outputs": [
    {
     "name": "stdout",
     "output_type": "stream",
     "text": [
      "[ 0  1  2  3  4  5  6  7  8  9 10 11]\n",
      "[[ 0  1  2  3  4  5]\n",
      " [ 6  7  8  9 10 11]]\n",
      "[[ 0  3  6  9]\n",
      " [ 1  4  7 10]\n",
      " [ 2  5  8 11]]\n"
     ]
    }
   ],
   "source": [
    "v1= np.arange(12)\n",
    "print(v1)\n",
    "v2 =v1.reshape(2,6)\n",
    "print(v2)\n",
    "print(v1.reshape(3,4, order=\"F\"))\n",
    "\n"
   ]
  },
  {
   "cell_type": "code",
   "execution_count": 22,
   "metadata": {},
   "outputs": [
    {
     "name": "stdout",
     "output_type": "stream",
     "text": [
      "[1 2 3 4]\n",
      "[[1 2]\n",
      " [3 4]]\n"
     ]
    }
   ],
   "source": [
    "v1 = np.arange(1,5).reshape(2,2)\n",
    "print(np.arange(1,5))\n",
    "print(v1)"
   ]
  },
  {
   "cell_type": "code",
   "execution_count": 23,
   "metadata": {},
   "outputs": [
    {
     "name": "stdout",
     "output_type": "stream",
     "text": [
      "[ 0  1  2  3  4  5  6  7  8  9 10 11 12 13 14 15 16 17 18 19 20 21 22 23]\n",
      "[[[[ 0 12]\n",
      "   [ 6 18]]\n",
      "\n",
      "  [[ 2 14]\n",
      "   [ 8 20]]\n",
      "\n",
      "  [[ 4 16]\n",
      "   [10 22]]]\n",
      "\n",
      "\n",
      " [[[ 1 13]\n",
      "   [ 7 19]]\n",
      "\n",
      "  [[ 3 15]\n",
      "   [ 9 21]]\n",
      "\n",
      "  [[ 5 17]\n",
      "   [11 23]]]]\n",
      "(2, 3, 2, 2)\n"
     ]
    }
   ],
   "source": [
    "v1 = np.arange(24)\n",
    "print(v1)\n",
    "v2 = v1.reshape(2,3,2,2, order='f')\n",
    "print(v2)\n",
    "print(v2.shape)"
   ]
  },
  {
   "cell_type": "code",
   "execution_count": 24,
   "metadata": {},
   "outputs": [
    {
     "name": "stdout",
     "output_type": "stream",
     "text": [
      "    continent  brand  size  period price\n",
      "0           2      2  10.7   47.65   144\n",
      "1           2      3  14.0   63.13   215\n",
      "2           2      2   9.0   58.76   105\n",
      "3           1      1   8.0   34.88    69\n",
      "4           2      2  10.0   55.53   134\n",
      "..        ...    ...   ...     ...   ...\n",
      "58          1      1   5.0   16.66  21.5\n",
      "59          2      1  21.0   43.00      \n",
      "60          2      2   5.0   12.00      \n",
      "61          2      3  13.0   20.00      \n",
      "62          2      3  31.0   19.00      \n",
      "\n",
      "[63 rows x 5 columns]\n"
     ]
    }
   ],
   "source": [
    "df = pd.read_csv('data/Ex_GrapeData.csv')\n",
    "print(df)"
   ]
  },
  {
   "cell_type": "code",
   "execution_count": 25,
   "metadata": {},
   "outputs": [
    {
     "name": "stdout",
     "output_type": "stream",
     "text": [
      "0     144.0\n",
      "1     215.0\n",
      "2     105.0\n",
      "3      69.0\n",
      "4     134.0\n",
      "      ...  \n",
      "58     21.5\n",
      "59      NaN\n",
      "60      NaN\n",
      "61      NaN\n",
      "62      NaN\n",
      "Name: price, Length: 63, dtype: float64\n"
     ]
    }
   ],
   "source": [
    "df = pd.read_excel('data/EX_GrapeData.xlsx')\n",
    "# print(df.head())\n",
    "# print(df.tail())\n",
    "# print(df[:3])\n",
    "print(df['price'])"
   ]
  },
  {
   "cell_type": "code",
   "execution_count": 48,
   "metadata": {},
   "outputs": [
    {
     "name": "stdout",
     "output_type": "stream",
     "text": [
      "   continent  brand  size  period price\n",
      "0          2      2  10.7   47.65   144\n",
      "1          2      3  14.0   63.13   215\n",
      "2          2      2   9.0   58.76   105\n"
     ]
    }
   ],
   "source": [
    "df = pd.read_csv('data/Ex_GrapeData.csv')\n",
    "# print(df[df.columns[[0,2,4]]])\n",
    "print(df.loc[:2, 'continent':'price'])\n"
   ]
  },
  {
   "cell_type": "code",
   "execution_count": 49,
   "metadata": {},
   "outputs": [
    {
     "name": "stdout",
     "output_type": "stream",
     "text": [
      "   size   time price\n",
      "0  10.7  47.65   144\n",
      "1  14.0  63.13   215\n",
      "2   9.0  58.76   105\n",
      "3   8.0  34.88    69\n",
      "4  10.0  55.53   134\n"
     ]
    },
    {
     "name": "stderr",
     "output_type": "stream",
     "text": [
      "c:\\dev\\introduction_to_machine_learning_with_python\\venv\\lib\\site-packages\\pandas\\core\\frame.py:5039: SettingWithCopyWarning: \n",
      "A value is trying to be set on a copy of a slice from a DataFrame\n",
      "\n",
      "See the caveats in the documentation: https://pandas.pydata.org/pandas-docs/stable/user_guide/indexing.html#returning-a-view-versus-a-copy\n",
      "  return super().rename(\n",
      "C:\\Users\\yeoga\\AppData\\Local\\Temp/ipykernel_28424/4099501316.py:8: SettingWithCopyWarning: \n",
      "A value is trying to be set on a copy of a slice from a DataFrame.\n",
      "Try using .loc[row_indexer,col_indexer] = value instead\n",
      "\n",
      "See the caveats in the documentation: https://pandas.pydata.org/pandas-docs/stable/user_guide/indexing.html#returning-a-view-versus-a-copy\n",
      "  df_copy2['growth'] = df_copy2['size'] / df_copy2['time']\n"
     ]
    }
   ],
   "source": [
    "df = pd.read_csv('data/Ex_GrapeData.csv')\n",
    "df_copy = df.copy()\n",
    "# print(df_copy.columns)\n",
    "df_copy2 = df_copy[['size', 'period', 'price']]\n",
    "# print(df_copy2)\n",
    "df_copy2.rename(columns={'period':'time'}, inplace=True)\n",
    "# print(df_copy2.columns)\n",
    "df_copy2['growth'] = df_copy2['size'] / df_copy2['time']\n",
    "# print(df_copy2)\n",
    "del df_copy2['growth']\n",
    "print(df_copy2.head())"
   ]
  },
  {
   "cell_type": "code",
   "execution_count": 50,
   "metadata": {},
   "outputs": [
    {
     "name": "stdout",
     "output_type": "stream",
     "text": [
      "    continent  brand  size  period price\n",
      "3           1      1   8.0   34.88    69\n",
      "11          1      1  10.4   17.67    54\n",
      "12          1      1   7.4   16.41    39\n",
      "13          1      1   5.4   12.02  29.5\n",
      "16          1      1   6.0   23.21    42\n"
     ]
    }
   ],
   "source": [
    "df = pd.read_csv('data/Ex_GrapeData.csv')\n",
    "# df_continent_brand = df[]\n",
    "df_continent_brand = df[(df['continent']==1) & (df['brand'] == 1)]\n",
    "print(df_continent_brand.head())\n"
   ]
  },
  {
   "cell_type": "code",
   "execution_count": 51,
   "metadata": {},
   "outputs": [
    {
     "data": {
      "text/plain": [
       "1.0    47\n",
       "2.0    16\n",
       "Name: brand, dtype: int64"
      ]
     },
     "execution_count": 51,
     "metadata": {},
     "output_type": "execute_result"
    }
   ],
   "source": [
    "df = pd.read_csv('data/Ex_GrapeData.csv')\n",
    "df['brand'].value_counts()\n",
    "recode_brand = {\"brand\":{1:1, 2:1, 3:2}}\n",
    "df_recode1 = df.replace(recode_brand)\n",
    "# df_recode1.head()\n",
    "df_recode1['brand'].value_counts()"
   ]
  },
  {
   "cell_type": "code",
   "execution_count": 52,
   "metadata": {},
   "outputs": [
    {
     "data": {
      "text/html": [
       "<div>\n",
       "<style scoped>\n",
       "    .dataframe tbody tr th:only-of-type {\n",
       "        vertical-align: middle;\n",
       "    }\n",
       "\n",
       "    .dataframe tbody tr th {\n",
       "        vertical-align: top;\n",
       "    }\n",
       "\n",
       "    .dataframe thead th {\n",
       "        text-align: right;\n",
       "    }\n",
       "</style>\n",
       "<table border=\"1\" class=\"dataframe\">\n",
       "  <thead>\n",
       "    <tr style=\"text-align: right;\">\n",
       "      <th></th>\n",
       "      <th>continent</th>\n",
       "      <th>brand</th>\n",
       "      <th>size</th>\n",
       "      <th>period</th>\n",
       "      <th>price</th>\n",
       "      <th>re_brand</th>\n",
       "    </tr>\n",
       "  </thead>\n",
       "  <tbody>\n",
       "    <tr>\n",
       "      <th>0</th>\n",
       "      <td>2</td>\n",
       "      <td>2</td>\n",
       "      <td>10.7</td>\n",
       "      <td>47.65</td>\n",
       "      <td>144</td>\n",
       "      <td>1</td>\n",
       "    </tr>\n",
       "    <tr>\n",
       "      <th>1</th>\n",
       "      <td>2</td>\n",
       "      <td>3</td>\n",
       "      <td>14.0</td>\n",
       "      <td>63.13</td>\n",
       "      <td>215</td>\n",
       "      <td>2</td>\n",
       "    </tr>\n",
       "    <tr>\n",
       "      <th>2</th>\n",
       "      <td>2</td>\n",
       "      <td>2</td>\n",
       "      <td>9.0</td>\n",
       "      <td>58.76</td>\n",
       "      <td>105</td>\n",
       "      <td>1</td>\n",
       "    </tr>\n",
       "    <tr>\n",
       "      <th>3</th>\n",
       "      <td>1</td>\n",
       "      <td>1</td>\n",
       "      <td>8.0</td>\n",
       "      <td>34.88</td>\n",
       "      <td>69</td>\n",
       "      <td>1</td>\n",
       "    </tr>\n",
       "    <tr>\n",
       "      <th>4</th>\n",
       "      <td>2</td>\n",
       "      <td>2</td>\n",
       "      <td>10.0</td>\n",
       "      <td>55.53</td>\n",
       "      <td>134</td>\n",
       "      <td>1</td>\n",
       "    </tr>\n",
       "  </tbody>\n",
       "</table>\n",
       "</div>"
      ],
      "text/plain": [
       "   continent  brand  size  period price  re_brand\n",
       "0          2      2  10.7   47.65   144         1\n",
       "1          2      3  14.0   63.13   215         2\n",
       "2          2      2   9.0   58.76   105         1\n",
       "3          1      1   8.0   34.88    69         1\n",
       "4          2      2  10.0   55.53   134         1"
      ]
     },
     "execution_count": 52,
     "metadata": {},
     "output_type": "execute_result"
    }
   ],
   "source": [
    "df = pd.read_csv('data/Ex_GrapeData.csv')\n",
    "def brand_groups(series):\n",
    "    if series ==1:\n",
    "        return 1\n",
    "    elif series ==2:\n",
    "        return 1\n",
    "    elif series ==3:\n",
    "        return 2\n",
    "df['re_brand'] = df['brand'].apply(brand_groups)\n",
    "df.head()"
   ]
  },
  {
   "cell_type": "code",
   "execution_count": 56,
   "metadata": {},
   "outputs": [
    {
     "data": {
      "text/html": [
       "<div>\n",
       "<style scoped>\n",
       "    .dataframe tbody tr th:only-of-type {\n",
       "        vertical-align: middle;\n",
       "    }\n",
       "\n",
       "    .dataframe tbody tr th {\n",
       "        vertical-align: top;\n",
       "    }\n",
       "\n",
       "    .dataframe thead th {\n",
       "        text-align: right;\n",
       "    }\n",
       "</style>\n",
       "<table border=\"1\" class=\"dataframe\">\n",
       "  <thead>\n",
       "    <tr style=\"text-align: right;\">\n",
       "      <th></th>\n",
       "      <th>continent</th>\n",
       "      <th>brand</th>\n",
       "      <th>size</th>\n",
       "      <th>period</th>\n",
       "      <th>price</th>\n",
       "    </tr>\n",
       "  </thead>\n",
       "  <tbody>\n",
       "    <tr>\n",
       "      <th>0</th>\n",
       "      <td>2</td>\n",
       "      <td>2</td>\n",
       "      <td>10.7</td>\n",
       "      <td>47.65</td>\n",
       "      <td>144</td>\n",
       "    </tr>\n",
       "    <tr>\n",
       "      <th>1</th>\n",
       "      <td>2</td>\n",
       "      <td>3</td>\n",
       "      <td>14.0</td>\n",
       "      <td>63.13</td>\n",
       "      <td>215</td>\n",
       "    </tr>\n",
       "    <tr>\n",
       "      <th>2</th>\n",
       "      <td>2</td>\n",
       "      <td>2</td>\n",
       "      <td>9.0</td>\n",
       "      <td>58.76</td>\n",
       "      <td>105</td>\n",
       "    </tr>\n",
       "    <tr>\n",
       "      <th>3</th>\n",
       "      <td>1</td>\n",
       "      <td>1</td>\n",
       "      <td>8.0</td>\n",
       "      <td>34.88</td>\n",
       "      <td>69</td>\n",
       "    </tr>\n",
       "    <tr>\n",
       "      <th>4</th>\n",
       "      <td>2</td>\n",
       "      <td>2</td>\n",
       "      <td>10.0</td>\n",
       "      <td>55.53</td>\n",
       "      <td>134</td>\n",
       "    </tr>\n",
       "  </tbody>\n",
       "</table>\n",
       "</div>"
      ],
      "text/plain": [
       "  continent brand  size period price\n",
       "0         2     2  10.7  47.65   144\n",
       "1         2     3  14.0  63.13   215\n",
       "2         2     2   9.0  58.76   105\n",
       "3         1     1   8.0  34.88    69\n",
       "4         2     2  10.0  55.53   134"
      ]
     },
     "execution_count": 56,
     "metadata": {},
     "output_type": "execute_result"
    }
   ],
   "source": [
    "df = pd.read_csv('data/Ex_GrapeData.csv')\n",
    "df_num = df.to_numpy()\n",
    "df_pd = pd.DataFrame(df_num, columns =['continent', 'brand', 'size', 'period', 'price'])\n",
    "df_pd.head()"
   ]
  },
  {
   "cell_type": "code",
   "execution_count": null,
   "metadata": {},
   "outputs": [],
   "source": []
  }
 ],
 "metadata": {
  "kernelspec": {
   "display_name": "Python 3 (ipykernel)",
   "language": "python",
   "name": "python3"
  },
  "language_info": {
   "codemirror_mode": {
    "name": "ipython",
    "version": 3
   },
   "file_extension": ".py",
   "mimetype": "text/x-python",
   "name": "python",
   "nbconvert_exporter": "python",
   "pygments_lexer": "ipython3",
   "version": "3.10.0"
  }
 },
 "nbformat": 4,
 "nbformat_minor": 1
}
